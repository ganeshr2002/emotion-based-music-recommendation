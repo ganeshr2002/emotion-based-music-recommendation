{
 "cells": [
  {
   "cell_type": "markdown",
   "id": "e0b8a729",
   "metadata": {
    "id": "e0b8a729",
    "papermill": {
     "duration": 0.019707,
     "end_time": "2023-10-13T07:45:52.867842",
     "exception": false,
     "start_time": "2023-10-13T07:45:52.848135",
     "status": "completed"
    },
    "tags": []
   },
   "source": [
    "## **Loading Libraries**"
   ]
  },
  {
   "cell_type": "code",
   "execution_count": null,
   "id": "49e9747a",
   "metadata": {
    "_cell_guid": "b1076dfc-b9ad-4769-8c92-a6c4dae69d19",
    "_uuid": "8f2839f25d086af736a60e9eeb907d3b93b6e0e5",
    "execution": {
     "iopub.execute_input": "2023-10-13T07:45:52.911959Z",
     "iopub.status.busy": "2023-10-13T07:45:52.911515Z",
     "iopub.status.idle": "2023-10-13T07:46:03.374801Z",
     "shell.execute_reply": "2023-10-13T07:46:03.373730Z"
    },
    "id": "49e9747a",
    "papermill": {
     "duration": 10.488604,
     "end_time": "2023-10-13T07:46:03.377280",
     "exception": false,
     "start_time": "2023-10-13T07:45:52.888676",
     "status": "completed"
    },
    "tags": []
   },
   "outputs": [],
   "source": [
    "#load the basic libraries\n",
    "import pandas as pd\n",
    "import numpy as np\n",
    "import matplotlib.pyplot as plt\n",
    "plt.style.use('default')\n",
    "import os\n",
    "import tensorflow as tf\n",
    "import keras\n",
    "import cv2\n",
    "\n",
    "#load libraries for data preprocessing\n",
    "from sklearn.model_selection import train_test_split\n",
    "from tensorflow.keras.preprocessing.image import ImageDataGenerator, load_img, img_to_array\n",
    "\n",
    "#load libraries for building CNN\n",
    "from tensorflow.keras.layers import *\n",
    "from tensorflow.keras import layers , models, optimizers\n",
    "from tensorflow.keras.models import Sequential, Model\n",
    "\n",
    "#load libraries for ResNet transfer learning\n",
    "from tensorflow.keras.applications import ResNet50V2\n",
    "\n",
    "#load libraries for callbacks\n",
    "from tensorflow.keras.callbacks import EarlyStopping, ModelCheckpoint, ReduceLROnPlateau\n",
    "\n",
    "#load libraries for visualizing\n",
    "from tensorflow.keras.utils import plot_model\n",
    "\n"
   ]
  },
  {
   "cell_type": "markdown",
   "id": "79574e51",
   "metadata": {
    "id": "79574e51",
    "papermill": {
     "duration": 0.010348,
     "end_time": "2023-10-13T07:46:03.400090",
     "exception": false,
     "start_time": "2023-10-13T07:46:03.389742",
     "status": "completed"
    },
    "tags": []
   },
   "source": [
    "## Analysizing Dataset "
   ]
  },
  {
   "cell_type": "code",
   "execution_count": null,
   "id": "3b474055",
   "metadata": {
    "execution": {
     "iopub.execute_input": "2023-10-13T07:46:03.424090Z",
     "iopub.status.busy": "2023-10-13T07:46:03.423261Z",
     "iopub.status.idle": "2023-10-13T07:46:05.574931Z",
     "shell.execute_reply": "2023-10-13T07:46:05.573610Z"
    },
    "id": "3b474055",
    "papermill": {
     "duration": 2.166175,
     "end_time": "2023-10-13T07:46:05.577392",
     "exception": false,
     "start_time": "2023-10-13T07:46:03.411217",
     "status": "completed"
    },
    "tags": []
   },
   "outputs": [],
   "source": [
    "# define a  function to caculate the number of each emotion classes\n",
    "train_dir = 'FER2013/train/'\n",
    "test_dir = 'FER2013/test/'\n",
    "\n",
    "def Classes_Count( path, name):\n",
    "    Classes_Dict = {}\n",
    "\n",
    "    for Class in os.listdir(path):\n",
    "\n",
    "        Full_Path = os.path.join(path, Class)\n",
    "        Classes_Dict[Class] = len(os.listdir(Full_Path))\n",
    "\n",
    "    df = pd.DataFrame(Classes_Dict, index=[name])\n",
    "\n",
    "    return df\n",
    "\n",
    "Train_Count = Classes_Count(train_dir, 'Train').transpose().sort_values(by=\"Train\", ascending=False)\n",
    "Test_Count = Classes_Count(test_dir, 'Test').transpose().sort_values(by=\"Test\", ascending=False)"
   ]
  },
  {
   "cell_type": "markdown",
   "id": "9cfbcf14",
   "metadata": {},
   "source": [
    "# Data Visualization"
   ]
  },
  {
   "cell_type": "markdown",
   "id": "ecddfe76",
   "metadata": {
    "id": "ecddfe76",
    "papermill": {
     "duration": 0.011437,
     "end_time": "2023-10-13T07:46:05.600463",
     "exception": false,
     "start_time": "2023-10-13T07:46:05.589026",
     "status": "completed"
    },
    "tags": []
   },
   "source": [
    "### **Emotion Distribution Table**"
   ]
  },
  {
   "cell_type": "code",
   "execution_count": null,
   "id": "9d0debbe",
   "metadata": {
    "colab": {
     "base_uri": "https://localhost:8080/",
     "height": 269
    },
    "execution": {
     "iopub.execute_input": "2023-10-13T07:46:05.625934Z",
     "iopub.status.busy": "2023-10-13T07:46:05.625154Z",
     "iopub.status.idle": "2023-10-13T07:46:05.642769Z",
     "shell.execute_reply": "2023-10-13T07:46:05.641639Z"
    },
    "id": "9d0debbe",
    "outputId": "a0f8eb18-fe85-46bb-8fb8-2a6e1a0e1e10",
    "papermill": {
     "duration": 0.032476,
     "end_time": "2023-10-13T07:46:05.644624",
     "exception": false,
     "start_time": "2023-10-13T07:46:05.612148",
     "status": "completed"
    },
    "tags": []
   },
   "outputs": [],
   "source": [
    "pd.concat([Train_Count,Test_Count] , axis=1)"
   ]
  },
  {
   "cell_type": "markdown",
   "id": "f22d344a",
   "metadata": {},
   "source": [
    "# Data Visualization"
   ]
  },
  {
   "cell_type": "markdown",
   "id": "586cc7c5",
   "metadata": {
    "id": "586cc7c5",
    "papermill": {
     "duration": 0.0104,
     "end_time": "2023-10-13T07:46:05.687445",
     "exception": false,
     "start_time": "2023-10-13T07:46:05.677045",
     "status": "completed"
    },
    "tags": []
   },
   "source": [
    "### **Bar chart of the train and test data**"
   ]
  },
  {
   "cell_type": "code",
   "execution_count": null,
   "id": "0381b74c",
   "metadata": {
    "colab": {
     "base_uri": "https://localhost:8080/",
     "height": 472
    },
    "execution": {
     "iopub.execute_input": "2023-10-13T07:46:05.757066Z",
     "iopub.status.busy": "2023-10-13T07:46:05.756019Z",
     "iopub.status.idle": "2023-10-13T07:46:06.066442Z",
     "shell.execute_reply": "2023-10-13T07:46:06.065463Z"
    },
    "id": "0381b74c",
    "outputId": "c43bdc86-a699-4123-fc42-98bdfaa5550b",
    "papermill": {
     "duration": 0.370415,
     "end_time": "2023-10-13T07:46:06.068482",
     "exception": false,
     "start_time": "2023-10-13T07:46:05.698067",
     "status": "completed"
    },
    "tags": []
   },
   "outputs": [],
   "source": [
    "Train_Count.plot(kind='barh')\n",
    "plt.title('Train Data Distribution')\n",
    "plt.xlabel('Number of images')\n",
    "plt.ylabel('Emotions')\n",
    "plt.show()"
   ]
  },
  {
   "cell_type": "code",
   "execution_count": null,
   "id": "393b798f",
   "metadata": {
    "colab": {
     "base_uri": "https://localhost:8080/",
     "height": 447
    },
    "execution": {
     "iopub.execute_input": "2023-10-13T07:46:06.117028Z",
     "iopub.status.busy": "2023-10-13T07:46:06.115998Z",
     "iopub.status.idle": "2023-10-13T07:46:06.386592Z",
     "shell.execute_reply": "2023-10-13T07:46:06.385633Z"
    },
    "id": "393b798f",
    "outputId": "bfb2b80b-7cc8-4bc4-abf9-d5c82d9f791a",
    "papermill": {
     "duration": 0.284924,
     "end_time": "2023-10-13T07:46:06.388559",
     "exception": false,
     "start_time": "2023-10-13T07:46:06.103635",
     "status": "completed"
    },
    "tags": []
   },
   "outputs": [],
   "source": [
    "Test_Count.plot(kind='barh')"
   ]
  },
  {
   "cell_type": "markdown",
   "id": "01b46cb5",
   "metadata": {
    "id": "01b46cb5",
    "papermill": {
     "duration": 0.01134,
     "end_time": "2023-10-13T07:46:06.435219",
     "exception": false,
     "start_time": "2023-10-13T07:46:06.423879",
     "status": "completed"
    },
    "tags": []
   },
   "source": [
    "### **Show a batch of images**"
   ]
  },
  {
   "cell_type": "code",
   "execution_count": null,
   "id": "99458313",
   "metadata": {
    "colab": {
     "base_uri": "https://localhost:8080/",
     "height": 184
    },
    "execution": {
     "iopub.execute_input": "2023-10-13T07:46:06.472636Z",
     "iopub.status.busy": "2023-10-13T07:46:06.472148Z",
     "iopub.status.idle": "2023-10-13T07:46:07.798640Z",
     "shell.execute_reply": "2023-10-13T07:46:07.797751Z"
    },
    "id": "99458313",
    "outputId": "5bfe3f2f-7857-4ed2-d6c9-3d5f81cb27e5",
    "papermill": {
     "duration": 1.354029,
     "end_time": "2023-10-13T07:46:07.801006",
     "exception": false,
     "start_time": "2023-10-13T07:46:06.446977",
     "status": "completed"
    },
    "tags": []
   },
   "outputs": [],
   "source": [
    "plt.style.use('default')\n",
    "plt.figure(figsize = (25, 8))\n",
    "image_count = 1\n",
    "BASE_URL = 'FER2013/train/'\n",
    "\n",
    "for directory in os.listdir(BASE_URL):\n",
    "    if directory[0] != '.':\n",
    "        for i, file in enumerate(os.listdir(BASE_URL +'/'+ directory)):\n",
    "            if i == 1:\n",
    "                break\n",
    "            else:\n",
    "                fig = plt.subplot(1, 7, image_count)\n",
    "                image_count += 1\n",
    "                image = cv2.imread(BASE_URL + directory + '/' + file)\n",
    "                plt.imshow(image)\n",
    "                plt.title(directory, fontsize = 20)"
   ]
  },
  {
   "cell_type": "markdown",
   "id": "50106075",
   "metadata": {
    "id": "50106075",
    "papermill": {
     "duration": 0.013285,
     "end_time": "2023-10-13T07:46:07.879128",
     "exception": false,
     "start_time": "2023-10-13T07:46:07.865843",
     "status": "completed"
    },
    "tags": []
   },
   "source": [
    "# Data Preprocessing"
   ]
  },
  {
   "cell_type": "markdown",
   "id": "8a12915d",
   "metadata": {},
   "source": [
    "###   **Handling Missing Data**"
   ]
  },
  {
   "cell_type": "code",
   "execution_count": null,
   "id": "b5efeeb1",
   "metadata": {},
   "outputs": [],
   "source": [
    "merged_df = pd.concat([Train_Count, Test_Count], axis=1)\n",
    "null_values = merged_df.isnull().sum()\n",
    "print(null_values)"
   ]
  },
  {
   "cell_type": "markdown",
   "id": "7b3bb462",
   "metadata": {},
   "source": [
    "There are no null values in this dataset."
   ]
  },
  {
   "cell_type": "markdown",
   "id": "03cf758d",
   "metadata": {
    "id": "03cf758d",
    "papermill": {
     "duration": 0.01306,
     "end_time": "2023-10-13T07:46:07.905529",
     "exception": false,
     "start_time": "2023-10-13T07:46:07.892469",
     "status": "completed"
    },
    "tags": []
   },
   "source": [
    "###   **Data Augmentation**"
   ]
  },
  {
   "cell_type": "code",
   "execution_count": null,
   "id": "10257bec",
   "metadata": {
    "execution": {
     "iopub.execute_input": "2023-10-13T07:46:07.934781Z",
     "iopub.status.busy": "2023-10-13T07:46:07.933751Z",
     "iopub.status.idle": "2023-10-13T07:46:07.938569Z",
     "shell.execute_reply": "2023-10-13T07:46:07.937927Z"
    },
    "id": "10257bec",
    "papermill": {
     "duration": 0.021164,
     "end_time": "2023-10-13T07:46:07.940351",
     "exception": false,
     "start_time": "2023-10-13T07:46:07.919187",
     "status": "completed"
    },
    "tags": []
   },
   "outputs": [],
   "source": [
    "img_shape = 48\n",
    "batch_size = 64\n",
    "train_data_path = 'FER2013/train/'\n",
    "test_data_path = 'FER2013/test/'"
   ]
  },
  {
   "cell_type": "code",
   "execution_count": null,
   "id": "e89f9101",
   "metadata": {
    "colab": {
     "base_uri": "https://localhost:8080/"
    },
    "execution": {
     "iopub.execute_input": "2023-10-13T07:46:07.968113Z",
     "iopub.status.busy": "2023-10-13T07:46:07.967406Z",
     "iopub.status.idle": "2023-10-13T07:46:33.911339Z",
     "shell.execute_reply": "2023-10-13T07:46:33.910300Z"
    },
    "id": "e89f9101",
    "outputId": "dba5accf-19c2-48d3-8260-e79266881c8a",
    "papermill": {
     "duration": 25.96013,
     "end_time": "2023-10-13T07:46:33.913535",
     "exception": false,
     "start_time": "2023-10-13T07:46:07.953405",
     "status": "completed"
    },
    "tags": []
   },
   "outputs": [],
   "source": [
    "#using data generators to generate batches of images\n",
    "train_preprocessor = ImageDataGenerator(\n",
    "        rescale = 1 / 255.,\n",
    "        # Data Augmentation\n",
    "        rotation_range=10,\n",
    "        zoom_range=0.2,\n",
    "        width_shift_range=0.1,\n",
    "        height_shift_range=0.1,\n",
    "        horizontal_flip=True,\n",
    "        fill_mode='nearest',\n",
    "    )\n",
    "\n",
    "test_preprocessor = ImageDataGenerator(\n",
    "    rescale = 1 / 255.,\n",
    ")\n",
    "\n",
    "train_data = train_preprocessor.flow_from_directory(\n",
    "    train_data_path,\n",
    "    class_mode=\"categorical\",\n",
    "    target_size=(img_shape,img_shape),\n",
    "    color_mode='rgb',\n",
    "    shuffle=True,\n",
    "    batch_size=batch_size,\n",
    "    subset='training',\n",
    ")\n",
    "\n",
    "test_data = test_preprocessor.flow_from_directory(\n",
    "    test_data_path,\n",
    "    class_mode=\"categorical\",\n",
    "    target_size=(img_shape,img_shape),\n",
    "    color_mode=\"rgb\",\n",
    "    shuffle=False,\n",
    "    batch_size=batch_size,\n",
    ")"
   ]
  },
  {
   "cell_type": "markdown",
   "id": "634a1752",
   "metadata": {
    "id": "634a1752",
    "papermill": {
     "duration": 1.222407,
     "end_time": "2023-10-13T09:04:35.593584",
     "exception": false,
     "start_time": "2023-10-13T09:04:34.371177",
     "status": "completed"
    },
    "tags": []
   },
   "source": [
    "# ResNet Model Creation"
   ]
  },
  {
   "cell_type": "code",
   "execution_count": null,
   "id": "c2c7015a",
   "metadata": {
    "execution": {
     "iopub.execute_input": "2023-10-13T09:04:40.431466Z",
     "iopub.status.busy": "2023-10-13T09:04:40.431097Z",
     "iopub.status.idle": "2023-10-13T09:04:40.436005Z",
     "shell.execute_reply": "2023-10-13T09:04:40.434904Z"
    },
    "id": "c2c7015a",
    "papermill": {
     "duration": 1.218441,
     "end_time": "2023-10-13T09:04:40.437981",
     "exception": false,
     "start_time": "2023-10-13T09:04:39.219540",
     "status": "completed"
    },
    "tags": []
   },
   "outputs": [],
   "source": [
    "# specifing new image shape for resnet\n",
    "img_shape = 224\n",
    "batch_size = 64\n",
    "train_data_path = 'FER2013/train/'  # 80%\n",
    "test_data_path = 'FER2013/test/'    # 20%"
   ]
  },
  {
   "cell_type": "code",
   "execution_count": null,
   "id": "ed5de763",
   "metadata": {
    "colab": {
     "base_uri": "https://localhost:8080/"
    },
    "execution": {
     "iopub.execute_input": "2023-10-13T09:04:42.822142Z",
     "iopub.status.busy": "2023-10-13T09:04:42.821744Z",
     "iopub.status.idle": "2023-10-13T09:04:49.896607Z",
     "shell.execute_reply": "2023-10-13T09:04:49.895539Z"
    },
    "id": "ed5de763",
    "outputId": "44560586-da3e-42f0-f068-d6358a4b1c89",
    "papermill": {
     "duration": 8.320094,
     "end_time": "2023-10-13T09:04:49.898904",
     "exception": false,
     "start_time": "2023-10-13T09:04:41.578810",
     "status": "completed"
    },
    "tags": []
   },
   "outputs": [],
   "source": [
    "#load data again\n",
    "train_preprocessor = ImageDataGenerator(\n",
    "        rescale = 1 / 255.,\n",
    "        rotation_range=10,\n",
    "        zoom_range=0.2,\n",
    "        width_shift_range=0.1,\n",
    "        height_shift_range=0.1,\n",
    "        horizontal_flip=True,\n",
    "        fill_mode='nearest',\n",
    "    )\n",
    "\n",
    "\n",
    "test_preprocessor = ImageDataGenerator(\n",
    "    rescale = 1 / 255.,\n",
    ")\n",
    "\n",
    "train_data = train_preprocessor.flow_from_directory(\n",
    "    train_data_path,\n",
    "    class_mode=\"categorical\",\n",
    "    target_size=(img_shape,img_shape),\n",
    "    color_mode='rgb',\n",
    "    shuffle=True,\n",
    "    batch_size=batch_size,\n",
    "    subset='training',\n",
    ")\n",
    "\n",
    "test_data = test_preprocessor.flow_from_directory(\n",
    "    test_data_path,\n",
    "    class_mode=\"categorical\",\n",
    "    target_size=(img_shape,img_shape),\n",
    "    color_mode=\"rgb\",\n",
    "    shuffle=False,\n",
    "    batch_size=batch_size,\n",
    ")"
   ]
  },
  {
   "cell_type": "markdown",
   "id": "1b43130e",
   "metadata": {
    "id": "1b43130e",
    "papermill": {
     "duration": 1.243291,
     "end_time": "2023-10-13T09:04:52.388695",
     "exception": false,
     "start_time": "2023-10-13T09:04:51.145404",
     "status": "completed"
    },
    "tags": []
   },
   "source": [
    "### **ResNet50V2 Definition**"
   ]
  },
  {
   "cell_type": "code",
   "execution_count": null,
   "id": "d3cd9ec3",
   "metadata": {
    "execution": {
     "iopub.execute_input": "2023-10-13T09:04:55.552187Z",
     "iopub.status.busy": "2023-10-13T09:04:55.551810Z",
     "iopub.status.idle": "2023-10-13T09:04:58.198662Z",
     "shell.execute_reply": "2023-10-13T09:04:58.197539Z"
    },
    "id": "d3cd9ec3",
    "papermill": {
     "duration": 4.372498,
     "end_time": "2023-10-13T09:04:58.200958",
     "exception": false,
     "start_time": "2023-10-13T09:04:53.828460",
     "status": "completed"
    },
    "tags": []
   },
   "outputs": [],
   "source": [
    "# 224,224,3\n",
    "ResNet50V2 = tf.keras.applications.ResNet50V2(input_shape=(224, 224, 3),\n",
    "                                               include_top= False,\n",
    "                                               weights='imagenet'\n",
    "                                               )\n",
    "\n",
    "#ResNet50V2.summary()"
   ]
  },
  {
   "cell_type": "code",
   "execution_count": null,
   "id": "597af518",
   "metadata": {
    "execution": {
     "iopub.execute_input": "2023-10-13T09:05:00.687385Z",
     "iopub.status.busy": "2023-10-13T09:05:00.686997Z",
     "iopub.status.idle": "2023-10-13T09:05:00.699792Z",
     "shell.execute_reply": "2023-10-13T09:05:00.698636Z"
    },
    "id": "597af518",
    "papermill": {
     "duration": 1.252584,
     "end_time": "2023-10-13T09:05:00.701755",
     "exception": false,
     "start_time": "2023-10-13T09:04:59.449171",
     "status": "completed"
    },
    "tags": []
   },
   "outputs": [],
   "source": [
    "# Freezing all layers except last 50\n",
    "\n",
    "ResNet50V2.trainable = True\n",
    "\n",
    "for layer in ResNet50V2.layers[:-50]:\n",
    "    layer.trainable = False"
   ]
  },
  {
   "cell_type": "code",
   "execution_count": null,
   "id": "9f539278",
   "metadata": {
    "execution": {
     "iopub.execute_input": "2023-10-13T09:05:05.724901Z",
     "iopub.status.busy": "2023-10-13T09:05:05.723818Z",
     "iopub.status.idle": "2023-10-13T09:05:05.729879Z",
     "shell.execute_reply": "2023-10-13T09:05:05.728919Z"
    },
    "id": "9f539278",
    "papermill": {
     "duration": 1.411009,
     "end_time": "2023-10-13T09:05:05.731829",
     "exception": false,
     "start_time": "2023-10-13T09:05:04.320820",
     "status": "completed"
    },
    "tags": []
   },
   "outputs": [],
   "source": [
    "def Create_ResNet50V2_Model():\n",
    "\n",
    "    model = Sequential([\n",
    "                      ResNet50V2,\n",
    "                      Dropout(.25),\n",
    "                      BatchNormalization(),\n",
    "                      Flatten(),\n",
    "                      Dense(64, activation='relu'),\n",
    "                      BatchNormalization(),\n",
    "                      Dropout(.5),\n",
    "                      Dense(7,activation='softmax')\n",
    "                    ])\n",
    "    return model"
   ]
  },
  {
   "cell_type": "code",
   "execution_count": null,
   "id": "03452813",
   "metadata": {
    "colab": {
     "base_uri": "https://localhost:8080/"
    },
    "execution": {
     "iopub.execute_input": "2023-10-13T09:05:08.133032Z",
     "iopub.status.busy": "2023-10-13T09:05:08.132694Z",
     "iopub.status.idle": "2023-10-13T09:05:08.683701Z",
     "shell.execute_reply": "2023-10-13T09:05:08.682788Z"
    },
    "id": "03452813",
    "outputId": "a299c59c-37e0-46f4-fc5e-e7f77c7f0baa",
    "papermill": {
     "duration": 1.753356,
     "end_time": "2023-10-13T09:05:08.685553",
     "exception": false,
     "start_time": "2023-10-13T09:05:06.932197",
     "status": "completed"
    },
    "tags": []
   },
   "outputs": [],
   "source": [
    "ResNet50V2_Model = Create_ResNet50V2_Model()\n",
    "\n",
    "ResNet50V2_Model.summary()\n",
    "\n",
    "ResNet50V2_Model.compile(optimizer='adam', loss='categorical_crossentropy', metrics=['accuracy'])"
   ]
  },
  {
   "cell_type": "markdown",
   "id": "685807ad",
   "metadata": {
    "id": "685807ad",
    "papermill": {
     "duration": 1.246134,
     "end_time": "2023-10-13T09:05:11.122045",
     "exception": false,
     "start_time": "2023-10-13T09:05:09.875911",
     "status": "completed"
    },
    "tags": []
   },
   "source": [
    "### **Specifying Callbacks and Early Stopping**"
   ]
  },
  {
   "cell_type": "code",
   "execution_count": null,
   "id": "670be54e",
   "metadata": {
    "execution": {
     "iopub.execute_input": "2023-10-13T09:05:13.526892Z",
     "iopub.status.busy": "2023-10-13T09:05:13.526517Z",
     "iopub.status.idle": "2023-10-13T09:05:13.534354Z",
     "shell.execute_reply": "2023-10-13T09:05:13.533286Z"
    },
    "id": "670be54e",
    "papermill": {
     "duration": 1.168683,
     "end_time": "2023-10-13T09:05:13.536378",
     "exception": false,
     "start_time": "2023-10-13T09:05:12.367695",
     "status": "completed"
    },
    "tags": []
   },
   "outputs": [],
   "source": [
    "# Create Callback Checkpoint\n",
    "checkpoint_path = \"ResNet50V2_Model_Checkpoint\"\n",
    "Checkpoint = ModelCheckpoint(checkpoint_path, monitor=\"val_accuracy\", save_best_only=True)\n",
    "\n",
    "# Create Early Stopping Callback to monitor the accuracy\n",
    "Early_Stopping = EarlyStopping(monitor = 'val_accuracy', patience = 7, restore_best_weights = True, verbose=1)\n",
    "\n",
    "# Create ReduceLROnPlateau Callback to reduce overfitting by decreasing learning\n",
    "Reducing_LR = tf.keras.callbacks.ReduceLROnPlateau(monitor='val_loss',\n",
    "                                                  factor=0.2,\n",
    "                                                  patience=2,\n",
    "#                                                   min_lr=0.00005,\n",
    "                                                  verbose=1)\n",
    "\n",
    "callbacks = [Early_Stopping, Reducing_LR]\n",
    "steps_per_epoch = train_data.n // train_data.batch_size\n",
    "validation_steps = test_data.n // test_data.batch_size"
   ]
  },
  {
   "cell_type": "markdown",
   "id": "8738c46d",
   "metadata": {
    "id": "8738c46d",
    "papermill": {
     "duration": 1.206435,
     "end_time": "2023-10-13T09:05:15.952420",
     "exception": false,
     "start_time": "2023-10-13T09:05:14.745985",
     "status": "completed"
    },
    "tags": []
   },
   "source": [
    "### **ResNet Training**"
   ]
  },
  {
   "cell_type": "code",
   "execution_count": null,
   "id": "c25a1cf1",
   "metadata": {
    "colab": {
     "base_uri": "https://localhost:8080/",
     "height": 339
    },
    "execution": {
     "iopub.execute_input": "2023-10-13T09:05:18.490547Z",
     "iopub.status.busy": "2023-10-13T09:05:18.490195Z",
     "iopub.status.idle": "2023-10-13T12:29:00.108680Z",
     "shell.execute_reply": "2023-10-13T12:29:00.107683Z"
    },
    "id": "c25a1cf1",
    "outputId": "66b2f5d5-1a2c-4842-d5b2-55866335db8a",
    "papermill": {
     "duration": 12222.85211,
     "end_time": "2023-10-13T12:29:00.110681",
     "exception": false,
     "start_time": "2023-10-13T09:05:17.258571",
     "status": "completed"
    },
    "scrolled": true,
    "tags": []
   },
   "outputs": [],
   "source": [
    "ResNet50V2_history = ResNet50V2_Model.fit(train_data ,validation_data = test_data , epochs=30, batch_size=batch_size,\n",
    "                                         callbacks = callbacks, steps_per_epoch=steps_per_epoch, validation_steps=validation_steps)"
   ]
  },
  {
   "cell_type": "markdown",
   "id": "c22d6e31",
   "metadata": {
    "id": "c22d6e31",
    "papermill": {
     "duration": 1.64398,
     "end_time": "2023-10-13T12:29:03.538630",
     "exception": false,
     "start_time": "2023-10-13T12:29:01.894650",
     "status": "completed"
    },
    "tags": []
   },
   "source": [
    "### **Visualising ResNet Loss and Accuracy**"
   ]
  },
  {
   "cell_type": "code",
   "execution_count": null,
   "id": "9bace330",
   "metadata": {},
   "outputs": [],
   "source": [
    "def plot_curves(history):\n",
    "    loss = history.history[\"loss\"]\n",
    "    val_loss = history.history[\"val_loss\"]\n",
    "    accuracy = history.history[\"accuracy\"]\n",
    "    val_accuracy = history.history[\"val_accuracy\"]\n",
    "    epochs = range(len(history.history[\"loss\"]))\n",
    "    plt.figure(figsize=(15,5))\n",
    "\n",
    "    plt.subplot(1, 2, 1)\n",
    "    plt.plot(epochs, loss, label = \"training_loss\")\n",
    "    plt.plot(epochs, val_loss, label = \"val_loss\")\n",
    "    plt.title(\"Loss\")\n",
    "    plt.xlabel(\"epochs\")\n",
    "    plt.legend()\n",
    "\n",
    "    plt.subplot(1, 2, 2)\n",
    "    plt.plot(epochs, accuracy, label = \"training_accuracy\")\n",
    "    plt.plot(epochs, val_accuracy, label = \"val_accuracy\")\n",
    "    plt.title(\"Accuracy\")\n",
    "    plt.xlabel(\"epochs\")\n",
    "    plt.legend()"
   ]
  },
  {
   "cell_type": "code",
   "execution_count": null,
   "id": "db2e8ec3",
   "metadata": {
    "execution": {
     "iopub.execute_input": "2023-10-13T12:29:07.104730Z",
     "iopub.status.busy": "2023-10-13T12:29:07.104254Z",
     "iopub.status.idle": "2023-10-13T12:29:47.525065Z",
     "shell.execute_reply": "2023-10-13T12:29:47.524184Z"
    },
    "id": "db2e8ec3",
    "papermill": {
     "duration": 43.985587,
     "end_time": "2023-10-13T12:29:49.278996",
     "exception": false,
     "start_time": "2023-10-13T12:29:05.293409",
     "status": "completed"
    },
    "tags": []
   },
   "outputs": [],
   "source": [
    "plot_curves(ResNet50V2_history)"
   ]
  },
  {
   "cell_type": "code",
   "execution_count": null,
   "id": "7abd1b18",
   "metadata": {
    "execution": {
     "iopub.execute_input": "2023-10-13T12:30:00.348475Z",
     "iopub.status.busy": "2023-10-13T12:30:00.348140Z",
     "iopub.status.idle": "2023-10-13T12:30:16.785147Z",
     "shell.execute_reply": "2023-10-13T12:30:16.784339Z"
    },
    "id": "7abd1b18",
    "papermill": {
     "duration": 18.181824,
     "end_time": "2023-10-13T12:30:16.787533",
     "exception": false,
     "start_time": "2023-10-13T12:29:58.605709",
     "status": "completed"
    },
    "tags": []
   },
   "outputs": [],
   "source": [
    "ResNet50V2_Score = ResNet50V2_Model.evaluate(test_data)\n",
    "\n",
    "print(\"    Test Loss: {:.5f}\".format(ResNet50V2_Score[0]))\n",
    "print(\"Test Accuracy: {:.2f}%\".format(ResNet50V2_Score[1] * 100))"
   ]
  },
  {
   "cell_type": "markdown",
   "id": "ea58a9d2",
   "metadata": {
    "id": "ea58a9d2",
    "papermill": {
     "duration": 1.755102,
     "end_time": "2023-10-13T12:30:20.349905",
     "exception": false,
     "start_time": "2023-10-13T12:30:18.594803",
     "status": "completed"
    },
    "tags": []
   },
   "source": [
    "### **ResNet Confusion Matrix**"
   ]
  },
  {
   "cell_type": "code",
   "execution_count": null,
   "id": "bdc3b4dd",
   "metadata": {
    "execution": {
     "iopub.execute_input": "2023-10-13T12:30:24.271140Z",
     "iopub.status.busy": "2023-10-13T12:30:24.269981Z",
     "iopub.status.idle": "2023-10-13T12:30:42.442028Z",
     "shell.execute_reply": "2023-10-13T12:30:42.440795Z"
    },
    "id": "bdc3b4dd",
    "papermill": {
     "duration": 20.457953,
     "end_time": "2023-10-13T12:30:42.444500",
     "exception": false,
     "start_time": "2023-10-13T12:30:21.986547",
     "status": "completed"
    },
    "tags": []
   },
   "outputs": [],
   "source": [
    "ResNet50V2_Predictions = ResNet50V2_Model.predict(test_data)\n",
    "\n",
    "# Choosing highest probalbilty class in every prediction\n",
    "ResNet50V2_Predictions = np.argmax(ResNet50V2_Predictions, axis=1)"
   ]
  },
  {
   "cell_type": "code",
   "execution_count": null,
   "id": "84f58058",
   "metadata": {
    "execution": {
     "iopub.execute_input": "2023-10-13T12:30:46.045707Z",
     "iopub.status.busy": "2023-10-13T12:30:46.045360Z",
     "iopub.status.idle": "2023-10-13T12:30:46.605908Z",
     "shell.execute_reply": "2023-10-13T12:30:46.605018Z"
    },
    "id": "84f58058",
    "papermill": {
     "duration": 2.326588,
     "end_time": "2023-10-13T12:30:46.608038",
     "exception": false,
     "start_time": "2023-10-13T12:30:44.281450",
     "status": "completed"
    },
    "tags": []
   },
   "outputs": [],
   "source": [
    "import seaborn as sns \n",
    "from sklearn.metrics import confusion_matrix\n",
    "\n",
    "fig , ax= plt.subplots(figsize=(15,10))\n",
    "\n",
    "cm=confusion_matrix(test_data.labels, ResNet50V2_Predictions)\n",
    "\n",
    "sns.heatmap(cm, annot=True, fmt='g', ax=ax)\n",
    "\n",
    "ax.set_xlabel('Predicted labels',fontsize=15, fontweight='bold')\n",
    "ax.set_ylabel('True labels', fontsize=15, fontweight='bold')\n",
    "ax.set_title('ResNet50V2 Confusion Matrix', fontsize=20, fontweight='bold')"
   ]
  },
  {
   "cell_type": "markdown",
   "id": "e195ae39",
   "metadata": {
    "id": "e195ae39",
    "papermill": {
     "duration": 1.781115,
     "end_time": "2023-10-13T12:30:53.631727",
     "exception": false,
     "start_time": "2023-10-13T12:30:51.850612",
     "status": "completed"
    },
    "tags": []
   },
   "source": [
    "# Evaluation"
   ]
  },
  {
   "cell_type": "markdown",
   "id": "97c8b97c",
   "metadata": {
    "id": "97c8b97c",
    "papermill": {
     "duration": 2.084862,
     "end_time": "2023-10-13T12:30:58.040635",
     "exception": false,
     "start_time": "2023-10-13T12:30:55.955773",
     "status": "completed"
    },
    "tags": []
   },
   "source": [
    "### **Shuffling Test Data**"
   ]
  },
  {
   "cell_type": "code",
   "execution_count": null,
   "id": "fe279212",
   "metadata": {
    "execution": {
     "iopub.execute_input": "2023-10-13T12:31:01.482668Z",
     "iopub.status.busy": "2023-10-13T12:31:01.481747Z",
     "iopub.status.idle": "2023-10-13T12:31:01.486595Z",
     "shell.execute_reply": "2023-10-13T12:31:01.485517Z"
    },
    "id": "fe279212",
    "papermill": {
     "duration": 1.800235,
     "end_time": "2023-10-13T12:31:01.488461",
     "exception": false,
     "start_time": "2023-10-13T12:30:59.688226",
     "status": "completed"
    },
    "tags": []
   },
   "outputs": [],
   "source": [
    "Emotion_Classes = ['Angry',\n",
    "                  'Disgust',\n",
    "                  'Fear',\n",
    "                  'Happy',\n",
    "                  'Neutral',\n",
    "                  'Sad',\n",
    "                  'Surprise']"
   ]
  },
  {
   "cell_type": "code",
   "execution_count": null,
   "id": "d2ec9988",
   "metadata": {
    "execution": {
     "iopub.execute_input": "2023-10-13T12:31:05.035943Z",
     "iopub.status.busy": "2023-10-13T12:31:05.035578Z",
     "iopub.status.idle": "2023-10-13T12:31:05.182716Z",
     "shell.execute_reply": "2023-10-13T12:31:05.181807Z"
    },
    "id": "d2ec9988",
    "papermill": {
     "duration": 1.92363,
     "end_time": "2023-10-13T12:31:05.184741",
     "exception": false,
     "start_time": "2023-10-13T12:31:03.261111",
     "status": "completed"
    },
    "tags": []
   },
   "outputs": [],
   "source": [
    "# Shuffling Test Data to show diffrent classes\n",
    "test_preprocessor = ImageDataGenerator(\n",
    "        rescale = 1 / 255.,\n",
    "    )\n",
    "\n",
    "test_generator = test_preprocessor.flow_from_directory(\n",
    "    test_data_path,\n",
    "    class_mode=\"categorical\",\n",
    "    target_size=(48,48),\n",
    "    color_mode=\"rgb\",\n",
    "    shuffle=True,\n",
    "    batch_size=batch_size,\n",
    ")"
   ]
  },
  {
   "cell_type": "markdown",
   "id": "54b00d81",
   "metadata": {
    "id": "54b00d81",
    "papermill": {
     "duration": 1.781413,
     "end_time": "2023-10-13T12:31:22.424032",
     "exception": false,
     "start_time": "2023-10-13T12:31:20.642619",
     "status": "completed"
    },
    "tags": []
   },
   "source": [
    "### **ResNet50V2 Predictions**"
   ]
  },
  {
   "cell_type": "code",
   "execution_count": null,
   "id": "5bf7b831",
   "metadata": {
    "execution": {
     "iopub.execute_input": "2023-10-13T12:31:25.984220Z",
     "iopub.status.busy": "2023-10-13T12:31:25.983804Z",
     "iopub.status.idle": "2023-10-13T12:31:26.153998Z",
     "shell.execute_reply": "2023-10-13T12:31:26.153155Z"
    },
    "id": "5bf7b831",
    "papermill": {
     "duration": 1.937332,
     "end_time": "2023-10-13T12:31:26.155864",
     "exception": false,
     "start_time": "2023-10-13T12:31:24.218532",
     "status": "completed"
    },
    "scrolled": true,
    "tags": []
   },
   "outputs": [],
   "source": [
    "# Shuffling Test Data to show diffrent classes\n",
    "test_preprocessor = ImageDataGenerator(\n",
    "        rescale = 1 / 255.,\n",
    "    )\n",
    "\n",
    "test_generator = test_preprocessor.flow_from_directory(\n",
    "    test_data_path,\n",
    "    class_mode=\"categorical\",\n",
    "    target_size=(224,224),\n",
    "    color_mode=\"rgb\",\n",
    "    shuffle=True,\n",
    "    batch_size=batch_size,\n",
    ")"
   ]
  },
  {
   "cell_type": "code",
   "execution_count": null,
   "id": "ed6a00cb",
   "metadata": {
    "execution": {
     "iopub.execute_input": "2023-10-13T12:31:30.386268Z",
     "iopub.status.busy": "2023-10-13T12:31:30.385931Z",
     "iopub.status.idle": "2023-10-13T12:31:34.784416Z",
     "shell.execute_reply": "2023-10-13T12:31:34.783635Z"
    },
    "id": "ed6a00cb",
    "papermill": {
     "duration": 6.156747,
     "end_time": "2023-10-13T12:31:34.788319",
     "exception": false,
     "start_time": "2023-10-13T12:31:28.631572",
     "status": "completed"
    },
    "scrolled": false,
    "tags": []
   },
   "outputs": [],
   "source": [
    "# Display 10 random pictures from the dataset with their labels\n",
    "Random_batch = np.random.randint(0, len(test_generator) - 1)\n",
    "Random_Img_Index = np.random.randint(0, batch_size - 1 , 10)\n",
    "\n",
    "fig, axes = plt.subplots(nrows=2, ncols=5, figsize=(25, 10),\n",
    "                        subplot_kw={'xticks': [], 'yticks': []})\n",
    "\n",
    "for i, ax in enumerate(axes.flat):\n",
    "\n",
    "    Random_Img = test_generator[Random_batch][0][Random_Img_Index[i]]\n",
    "    Random_Img_Label = np.argmax(test_generator[Random_batch][1][Random_Img_Index[i]])\n",
    "    Model_Prediction = np.argmax(ResNet50V2_Model.predict( tf.expand_dims(Random_Img, axis=0) , verbose=0))\n",
    "    ax.imshow(Random_Img)\n",
    "\n",
    "    if Emotion_Classes[Random_Img_Label] == Emotion_Classes[Model_Prediction]:\n",
    "          color = \"green\"\n",
    "    else:\n",
    "          color = \"red\"\n",
    "    ax.set_title(f\"True: {Emotion_Classes[Random_Img_Label]}\\nPredicted: {Emotion_Classes[Model_Prediction]}\", color=color)\n",
    "    \n",
    "plt.show()\n",
    "plt.tight_layout()"
   ]
  },
  {
   "cell_type": "code",
   "execution_count": null,
   "id": "b458679f",
   "metadata": {},
   "outputs": [],
   "source": [
    "from sklearn.metrics import accuracy_score, precision_score, recall_score, f1_score\n",
    "\n",
    "\n",
    "y_true = test_data.labels\n",
    "\n",
    "# Calculate accuracy\n",
    "accuracy = accuracy_score(y_true, ResNet50V2_Predictions)\n",
    "\n",
    "# Calculate precision\n",
    "precision = precision_score(y_true, ResNet50V2_Predictions, average='macro')\n",
    "\n",
    "# Calculate recall\n",
    "recall = recall_score(y_true, ResNet50V2_Predictions, average='macro')\n",
    "\n",
    "# Calculate F1 score\n",
    "f1 = f1_score(y_true, ResNet50V2_Predictions, average='macro')\n",
    "\n",
    "\n",
    "# Print the metrics\n",
    "print(\"Accuracy:\", accuracy)\n",
    "print(\"Precision:\", precision)\n",
    "print(\"Recall:\", recall)\n",
    "print(\"F1 Score:\", f1)\n",
    "print(\"Error rate:\",1-accuracy)"
   ]
  },
  {
   "cell_type": "markdown",
   "id": "02a3698f",
   "metadata": {
    "id": "02a3698f",
    "papermill": {
     "duration": 1.637274,
     "end_time": "2023-10-13T12:31:41.770378",
     "exception": false,
     "start_time": "2023-10-13T12:31:40.133104",
     "status": "completed"
    },
    "tags": []
   },
   "source": [
    "## **Save Model**"
   ]
  },
  {
   "cell_type": "code",
   "execution_count": null,
   "id": "90129860",
   "metadata": {
    "execution": {
     "iopub.execute_input": "2023-10-13T12:31:45.295837Z",
     "iopub.status.busy": "2023-10-13T12:31:45.295479Z",
     "iopub.status.idle": "2023-10-13T12:31:46.363807Z",
     "shell.execute_reply": "2023-10-13T12:31:46.362875Z"
    },
    "id": "90129860",
    "papermill": {
     "duration": 2.853973,
     "end_time": "2023-10-13T12:31:46.366011",
     "exception": false,
     "start_time": "2023-10-13T12:31:43.512038",
     "status": "completed"
    },
    "tags": []
   },
   "outputs": [],
   "source": [
    "ResNet50V2_Model.save(\"ResNet50V2_Model.h5\")"
   ]
  },
  {
   "cell_type": "code",
   "execution_count": 1,
   "id": "412d1bc8",
   "metadata": {},
   "outputs": [
    {
     "name": "stdout",
     "output_type": "stream",
     "text": [
      "1/1 [==============================] - 1s 908ms/step\n",
      "1/1 [==============================] - 0s 110ms/step\n",
      "1/1 [==============================] - 0s 121ms/step\n",
      "1/1 [==============================] - 0s 120ms/step\n",
      "1/1 [==============================] - 0s 123ms/step\n",
      "1/1 [==============================] - 0s 116ms/step\n",
      "1/1 [==============================] - 0s 110ms/step\n",
      "1/1 [==============================] - 0s 112ms/step\n",
      "1/1 [==============================] - 0s 126ms/step\n",
      "1/1 [==============================] - 0s 130ms/step\n",
      "1/1 [==============================] - 0s 112ms/step\n",
      "1/1 [==============================] - 0s 129ms/step\n",
      "1/1 [==============================] - 0s 127ms/step\n",
      "1/1 [==============================] - 0s 127ms/step\n",
      "1/1 [==============================] - 0s 116ms/step\n",
      "1/1 [==============================] - 0s 111ms/step\n",
      "1/1 [==============================] - 0s 111ms/step\n",
      "1/1 [==============================] - 0s 111ms/step\n",
      "1/1 [==============================] - 0s 116ms/step\n",
      "1/1 [==============================] - 0s 125ms/step\n",
      "1/1 [==============================] - 0s 115ms/step\n",
      "1/1 [==============================] - 0s 122ms/step\n",
      "1/1 [==============================] - 0s 112ms/step\n",
      "1/1 [==============================] - 0s 127ms/step\n",
      "1/1 [==============================] - 0s 127ms/step\n",
      "1/1 [==============================] - 0s 117ms/step\n",
      "1/1 [==============================] - 0s 103ms/step\n",
      "1/1 [==============================] - 0s 92ms/step\n",
      "1/1 [==============================] - 0s 110ms/step\n",
      "1/1 [==============================] - 0s 94ms/step\n",
      "1/1 [==============================] - 0s 102ms/step\n",
      "1/1 [==============================] - 0s 89ms/step\n",
      "1/1 [==============================] - 0s 85ms/step\n",
      "1/1 [==============================] - 0s 111ms/step\n",
      "1/1 [==============================] - 0s 94ms/step\n",
      "1/1 [==============================] - 0s 100ms/step\n",
      "1/1 [==============================] - 0s 94ms/step\n",
      "1/1 [==============================] - 0s 103ms/step\n",
      "1/1 [==============================] - 0s 95ms/step\n",
      "1/1 [==============================] - 0s 96ms/step\n",
      "1/1 [==============================] - 0s 89ms/step\n",
      "1/1 [==============================] - 0s 100ms/step\n",
      "1/1 [==============================] - 0s 99ms/step\n",
      "1/1 [==============================] - 0s 95ms/step\n",
      "1/1 [==============================] - 0s 85ms/step\n",
      "1/1 [==============================] - 0s 94ms/step\n",
      "1/1 [==============================] - 0s 95ms/step\n",
      "1/1 [==============================] - 0s 95ms/step\n",
      "1/1 [==============================] - 0s 111ms/step\n",
      "1/1 [==============================] - 0s 99ms/step\n",
      "1/1 [==============================] - 0s 88ms/step\n",
      "1/1 [==============================] - 0s 86ms/step\n",
      "1/1 [==============================] - 0s 100ms/step\n",
      "1/1 [==============================] - 0s 96ms/step\n",
      "1/1 [==============================] - 0s 98ms/step\n",
      "1/1 [==============================] - 0s 85ms/step\n",
      "1/1 [==============================] - 0s 88ms/step\n",
      "1/1 [==============================] - 0s 98ms/step\n",
      "1/1 [==============================] - 0s 96ms/step\n",
      "1/1 [==============================] - 0s 95ms/step\n",
      "1/1 [==============================] - 0s 82ms/step\n",
      "1/1 [==============================] - 0s 96ms/step\n",
      "1/1 [==============================] - 0s 95ms/step\n",
      "1/1 [==============================] - 0s 98ms/step\n",
      "1/1 [==============================] - 0s 90ms/step\n",
      "1/1 [==============================] - 0s 95ms/step\n",
      "1/1 [==============================] - 0s 98ms/step\n",
      "1/1 [==============================] - 0s 92ms/step\n",
      "1/1 [==============================] - 0s 96ms/step\n",
      "1/1 [==============================] - 0s 88ms/step\n",
      "1/1 [==============================] - 0s 101ms/step\n",
      "1/1 [==============================] - 0s 95ms/step\n",
      "1/1 [==============================] - 0s 83ms/step\n",
      "1/1 [==============================] - 0s 101ms/step\n",
      "1/1 [==============================] - 0s 86ms/step\n",
      "1/1 [==============================] - 0s 96ms/step\n",
      "1/1 [==============================] - 0s 93ms/step\n",
      "1/1 [==============================] - 0s 96ms/step\n",
      "1/1 [==============================] - 0s 104ms/step\n",
      "1/1 [==============================] - 0s 101ms/step\n",
      "1/1 [==============================] - 0s 95ms/step\n",
      "1/1 [==============================] - 0s 92ms/step\n",
      "1/1 [==============================] - 0s 95ms/step\n",
      "1/1 [==============================] - 0s 97ms/step\n",
      "1/1 [==============================] - 0s 96ms/step\n",
      "1/1 [==============================] - 0s 92ms/step\n",
      "1/1 [==============================] - 0s 94ms/step\n",
      "1/1 [==============================] - 0s 84ms/step\n",
      "1/1 [==============================] - 0s 95ms/step\n",
      "1/1 [==============================] - 0s 82ms/step\n",
      "1/1 [==============================] - 0s 89ms/step\n",
      "1/1 [==============================] - 0s 95ms/step\n",
      "1/1 [==============================] - 0s 97ms/step\n",
      "1/1 [==============================] - 0s 98ms/step\n",
      "1/1 [==============================] - 0s 96ms/step\n",
      "1/1 [==============================] - 0s 103ms/step\n",
      "1/1 [==============================] - 0s 104ms/step\n",
      "1/1 [==============================] - 0s 96ms/step\n",
      "1/1 [==============================] - 0s 94ms/step\n",
      "1/1 [==============================] - 0s 95ms/step\n",
      "1/1 [==============================] - 0s 90ms/step\n",
      "1/1 [==============================] - 0s 112ms/step\n",
      "1/1 [==============================] - 0s 94ms/step\n",
      "1/1 [==============================] - 0s 103ms/step\n",
      "1/1 [==============================] - 0s 100ms/step\n",
      "1/1 [==============================] - 0s 91ms/step\n",
      "1/1 [==============================] - 0s 96ms/step\n",
      "1/1 [==============================] - 0s 102ms/step\n",
      "1/1 [==============================] - 0s 95ms/step\n",
      "1/1 [==============================] - 0s 110ms/step\n",
      "1/1 [==============================] - 0s 103ms/step\n",
      "1/1 [==============================] - 0s 97ms/step\n",
      "1/1 [==============================] - 0s 94ms/step\n",
      "1/1 [==============================] - 0s 101ms/step\n",
      "1/1 [==============================] - 0s 94ms/step\n",
      "1/1 [==============================] - 0s 91ms/step\n",
      "1/1 [==============================] - 0s 102ms/step\n",
      "1/1 [==============================] - 0s 95ms/step\n",
      "1/1 [==============================] - 0s 92ms/step\n",
      "1/1 [==============================] - 0s 98ms/step\n",
      "1/1 [==============================] - 0s 95ms/step\n",
      "1/1 [==============================] - 0s 103ms/step\n",
      "1/1 [==============================] - 0s 91ms/step\n",
      "1/1 [==============================] - 0s 102ms/step\n",
      "1/1 [==============================] - 0s 95ms/step\n",
      "1/1 [==============================] - 0s 95ms/step\n",
      "1/1 [==============================] - 0s 97ms/step\n",
      "1/1 [==============================] - 0s 91ms/step\n",
      "1/1 [==============================] - 0s 95ms/step\n",
      "1/1 [==============================] - 0s 93ms/step\n",
      "1/1 [==============================] - 0s 100ms/step\n",
      "1/1 [==============================] - 0s 94ms/step\n",
      "1/1 [==============================] - 0s 103ms/step\n",
      "1/1 [==============================] - 0s 104ms/step\n",
      "1/1 [==============================] - 0s 89ms/step\n",
      "1/1 [==============================] - 0s 95ms/step\n",
      "1/1 [==============================] - 0s 84ms/step\n",
      "1/1 [==============================] - 0s 103ms/step\n",
      "1/1 [==============================] - 0s 88ms/step\n",
      "1/1 [==============================] - 0s 93ms/step\n",
      "1/1 [==============================] - 0s 98ms/step\n",
      "1/1 [==============================] - 0s 96ms/step\n",
      "1/1 [==============================] - 0s 95ms/step\n",
      "1/1 [==============================] - 0s 95ms/step\n",
      "1/1 [==============================] - 0s 96ms/step\n",
      "1/1 [==============================] - 0s 86ms/step\n",
      "1/1 [==============================] - 0s 111ms/step\n",
      "1/1 [==============================] - 0s 110ms/step\n",
      "1/1 [==============================] - 0s 100ms/step\n",
      "1/1 [==============================] - 0s 89ms/step\n",
      "1/1 [==============================] - 0s 105ms/step\n",
      "1/1 [==============================] - 0s 98ms/step\n",
      "1/1 [==============================] - 0s 97ms/step\n",
      "1/1 [==============================] - 0s 101ms/step\n",
      "1/1 [==============================] - 0s 90ms/step\n",
      "1/1 [==============================] - 0s 100ms/step\n"
     ]
    },
    {
     "name": "stdout",
     "output_type": "stream",
     "text": [
      "1/1 [==============================] - 0s 96ms/step\n",
      "1/1 [==============================] - 0s 96ms/step\n",
      "1/1 [==============================] - 0s 103ms/step\n",
      "1/1 [==============================] - 0s 88ms/step\n",
      "1/1 [==============================] - 0s 96ms/step\n",
      "1/1 [==============================] - 0s 111ms/step\n",
      "1/1 [==============================] - 0s 115ms/step\n",
      "1/1 [==============================] - 0s 102ms/step\n",
      "1/1 [==============================] - 0s 140ms/step\n",
      "1/1 [==============================] - 0s 143ms/step\n",
      "1/1 [==============================] - 0s 133ms/step\n",
      "1/1 [==============================] - 0s 128ms/step\n",
      "1/1 [==============================] - 0s 121ms/step\n",
      "1/1 [==============================] - 0s 136ms/step\n",
      "1/1 [==============================] - 0s 157ms/step\n",
      "1/1 [==============================] - 0s 119ms/step\n",
      "1/1 [==============================] - 0s 132ms/step\n",
      "1/1 [==============================] - 0s 124ms/step\n",
      "1/1 [==============================] - 0s 126ms/step\n",
      "Angry: 7 frames\n",
      "Disgust: 0 frames\n",
      "Fear: 0 frames\n",
      "Happy: 7 frames\n",
      "Neutral: 141 frames\n",
      "Sad: 0 frames\n",
      "Surprise: 20 frames\n",
      "Overall Emotion: Neutral\n"
     ]
    }
   ],
   "source": [
    "import cv2\n",
    "import numpy as np\n",
    "from keras.models import load_model\n",
    "import matplotlib.pyplot as plt\n",
    "from IPython.display import display, Image\n",
    "import ipywidgets as widgets\n",
    "import threading\n",
    "\n",
    "# Load the ResNet50V2 model\n",
    "def load_resnet_model(model_path):\n",
    "    return load_model(model_path)\n",
    "\n",
    "# Load the Haar Cascade model for face detection\n",
    "def load_face_cascade():\n",
    "    return cv2.CascadeClassifier(cv2.data.haarcascades + 'haarcascade_frontalface_default.xml')\n",
    "\n",
    "# Initialize the webcam\n",
    "def initialize_webcam(width=640, height=480):\n",
    "    cap = cv2.VideoCapture(0)\n",
    "    cap.set(3, width)\n",
    "    cap.set(4, height)\n",
    "    return cap\n",
    "\n",
    "# Detect faces in the frame\n",
    "def detect_faces(frame, face_cascade):\n",
    "    gray = cv2.cvtColor(frame, cv2.COLOR_BGR2GRAY)\n",
    "    return face_cascade.detectMultiScale(gray, scaleFactor=1.1, minNeighbors=5, minSize=(30, 30))\n",
    "\n",
    "# Preprocess face image\n",
    "def preprocess_face(face):\n",
    "    face = cv2.resize(face, (224, 224))\n",
    "    face = face.astype('float32') / 255.0\n",
    "    return np.expand_dims(face, axis=0)\n",
    "\n",
    "# Predict emotion using ResNet50V2 model\n",
    "def predict_emotion(model, face):\n",
    "    return np.argmax(model.predict(face))\n",
    "\n",
    "# Draw rectangles around detected faces and display predicted emotions\n",
    "def draw_faces(frame, faces, emotions):\n",
    "    for (x, y, w, h), emotion in zip(faces, emotions):\n",
    "        cv2.rectangle(frame, (x, y), (x+w, y+h), (0, 255, 0), 2)\n",
    "        cv2.putText(frame, emotion, (x, y-10), cv2.FONT_HERSHEY_SIMPLEX, 0.5, (0, 255, 0), 1)\n",
    "    return frame\n",
    "\n",
    "# Main function to run emotion detection\n",
    "def run_emotion_detection(ResNet_model, face_cascade):\n",
    "    cap = initialize_webcam()\n",
    "    emotion_counts = {emotion: 0 for emotion in Emotion_Classes}\n",
    "\n",
    "    while True:\n",
    "        ret, frame = cap.read()\n",
    "        if cv2.waitKey(1) & 0xFF == ord('q'):  # quit when 'q' is pressed\n",
    "            cap.release()\n",
    "            break\n",
    "\n",
    "        faces = detect_faces(frame, face_cascade)\n",
    "\n",
    "        emotions = []\n",
    "        for (x, y, w, h) in faces:\n",
    "            face = frame[y:y+h, x:x+w]\n",
    "            face = preprocess_face(face)\n",
    "            emotion = predict_emotion(ResNet_model, face)\n",
    "            emotions.append(Emotion_Classes[emotion])\n",
    "            emotion_counts[Emotion_Classes[emotion]] += 1\n",
    "\n",
    "        frame = draw_faces(frame, faces, emotions)\n",
    "        cv2.imshow('Emotion Detection', frame)\n",
    "\n",
    "        if cv2.waitKey(1) & 0xFF == ord('q'):\n",
    "            break\n",
    "\n",
    "    cap.release()\n",
    "    cv2.destroyAllWindows()\n",
    "\n",
    "    for emotion, count in emotion_counts.items():\n",
    "        print(f'{emotion}: {count} frames')\n",
    "\n",
    "    overall_emotion = max(emotion_counts, key=emotion_counts.get)\n",
    "    print(f'Overall Emotion: {overall_emotion}')\n",
    "\n",
    "# Example usage\n",
    "if __name__ == \"__main__\":\n",
    "    Emotion_Classes = ['Angry',\n",
    "                  'Disgust',\n",
    "                  'Fear',\n",
    "                  'Happy',\n",
    "                  'Neutral',\n",
    "                  'Sad',\n",
    "                  'Surprise']\n",
    "    ResNet50V2_Model = load_resnet_model('ResNet50V2_Model.h5')\n",
    "    face_cascade = load_face_cascade()\n",
    "    run_emotion_detection(ResNet50V2_Model, face_cascade)\n"
   ]
  },
  {
   "cell_type": "code",
   "execution_count": null,
   "id": "a9f478cd",
   "metadata": {},
   "outputs": [],
   "source": [
    "pip uninstall opencv-python "
   ]
  },
  {
   "cell_type": "code",
   "execution_count": null,
   "id": "c3acae6f",
   "metadata": {},
   "outputs": [],
   "source": [
    "pip install opencv-python"
   ]
  },
  {
   "cell_type": "code",
   "execution_count": null,
   "id": "9f4ac189",
   "metadata": {},
   "outputs": [],
   "source": [
    "pip uninstall opencv-python-headless -y "
   ]
  },
  {
   "cell_type": "code",
   "execution_count": null,
   "id": "837c9e32",
   "metadata": {},
   "outputs": [],
   "source": [
    "pip install opencv-python --upgrade"
   ]
  },
  {
   "cell_type": "code",
   "execution_count": null,
   "id": "7996f5ea",
   "metadata": {},
   "outputs": [],
   "source": []
  }
 ],
 "metadata": {
  "colab": {
   "provenance": []
  },
  "kernelspec": {
   "display_name": "Python 3 (ipykernel)",
   "language": "python",
   "name": "python3"
  },
  "language_info": {
   "codemirror_mode": {
    "name": "ipython",
    "version": 3
   },
   "file_extension": ".py",
   "mimetype": "text/x-python",
   "name": "python",
   "nbconvert_exporter": "python",
   "pygments_lexer": "ipython3",
   "version": "3.9.13"
  },
  "papermill": {
   "default_parameters": {},
   "duration": 17161.874204,
   "end_time": "2023-10-13T12:31:51.265749",
   "environment_variables": {},
   "exception": null,
   "input_path": "__notebook__.ipynb",
   "output_path": "__notebook__.ipynb",
   "parameters": {},
   "start_time": "2023-10-13T07:45:49.391545",
   "version": "2.4.0"
  }
 },
 "nbformat": 4,
 "nbformat_minor": 5
}
